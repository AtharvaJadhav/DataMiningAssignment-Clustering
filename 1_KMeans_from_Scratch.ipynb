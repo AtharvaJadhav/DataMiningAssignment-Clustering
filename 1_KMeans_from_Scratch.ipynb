{
  "nbformat": 4,
  "nbformat_minor": 0,
  "metadata": {
    "colab": {
      "provenance": []
    },
    "kernelspec": {
      "name": "python3",
      "display_name": "Python 3"
    },
    "language_info": {
      "name": "python"
    }
  },
  "cells": [
    {
      "cell_type": "markdown",
      "source": [
        "#Introduction to Customer Segmentation using K-Means Clustering\n",
        "\n",
        "\n",
        "\n"
      ],
      "metadata": {
        "id": "vuDBAUdk2TMI"
      }
    },
    {
      "cell_type": "markdown",
      "source": [
        "##Overview of K-Means Clustering\n",
        "K-Means clustering is one of the most popular and straightforward unsupervised learning algorithms. At its core, the algorithm partitions a dataset into a specified number (K) of clusters. The fundamental idea is to define K centroids, one for each cluster. These centroids are placed strategically, typically as far away from each other as possible, to start the clustering process. The next step involves assigning each data point to the nearest centroid. After all points are assigned, the positions of the K centroids are recalculated, and the assignment process repeats. This process continues iteratively until the centroids no longer move significantly, indicating that the clusters are as defined as they can be given the current data.\n",
        "\n",
        "The K-Means algorithm is particularly useful in scenarios where we need to identify distinct groups in the data without any pre-existing labels – a common case in many real-world applications. Its simplicity and efficiency make K-Means a go-to method for quick and insightful data analysis."
      ],
      "metadata": {
        "id": "VIstotAc2eje"
      }
    },
    {
      "cell_type": "markdown",
      "source": [
        "##The Dataset and Its Relevance\n",
        "For our project, we will be using a customer segmentation dataset. This dataset typically contains various customer attributes which can include demographics, past purchasing behavior, interaction history, preferences, and other significant features. Customer segmentation is a pivotal part of modern business strategies, especially in marketing, sales, and customer service. By clustering customers into distinct groups, businesses can tailor their strategies to address the specific needs and preferences of each segment, leading to more effective marketing, improved customer satisfaction, and increased sales"
      ],
      "metadata": {
        "id": "q83Cfc2A2fgc"
      }
    },
    {
      "cell_type": "markdown",
      "source": [
        "##Potential Applications of Customer Segmentation\n",
        "Targeted Marketing: By understanding the characteristics of each segment, businesses can create more effective marketing campaigns that are tailored to the specific needs and preferences of each group.\n",
        "Product Development: Insights from customer segmentation can guide product development to meet the specific requirements of different customer groups.\n",
        "Customer Service Optimization: Tailoring customer service approaches to different segments can significantly improve customer satisfaction and loyalty.\n",
        "Strategic Decision Making: Insights from customer data can inform broader business strategies, including market positioning and competitive strategy."
      ],
      "metadata": {
        "id": "DjWvXvOA2nGV"
      }
    },
    {
      "cell_type": "markdown",
      "source": [
        "###1. Load the Dataset\n",
        "This first code block is responsible for importing necessary libraries and loading the dataset. The dataset is loaded with specific encoding to handle any special characters."
      ],
      "metadata": {
        "id": "e_Wz91V_2tBQ"
      }
    },
    {
      "cell_type": "code",
      "execution_count": 16,
      "metadata": {
        "id": "K8Trkky70PGA"
      },
      "outputs": [],
      "source": [
        "import pandas as pd\n",
        "\n",
        "# Load the dataset with ISO-8859-1 encoding\n",
        "file_path = 'data.csv'\n",
        "df = pd.read_csv(file_path, encoding='ISO-8859-1')"
      ]
    },
    {
      "cell_type": "markdown",
      "source": [
        "###2. Data Preprocessing\n",
        "This block handles the preprocessing of the dataset. It includes dropping unnecessary columns and converting date-time information into a more usable format. Extracting features like the month and day of the week from the 'InvoiceDate' column can provide useful insights for the clustering process."
      ],
      "metadata": {
        "id": "sFoGOhXk3YgX"
      }
    },
    {
      "cell_type": "code",
      "source": [
        "# Drop unnecessary columns\n",
        "df.drop(['StockCode', 'InvoiceNo', 'Description'], axis=1, inplace=True)\n",
        "\n",
        "# Convert 'InvoiceDate' to datetime and extract features\n",
        "df['InvoiceDate'] = pd.to_datetime(df['InvoiceDate'])\n",
        "df['InvoiceMonth'] = df['InvoiceDate'].dt.month\n",
        "df['InvoiceDayOfWeek'] = df['InvoiceDate'].dt.dayofweek\n",
        "df.drop('InvoiceDate', axis=1, inplace=True)"
      ],
      "metadata": {
        "id": "4C2u8LNM4o6U"
      },
      "execution_count": 17,
      "outputs": []
    },
    {
      "cell_type": "markdown",
      "source": [
        "### 3. Data Sampling\n",
        "To manage large datasets and avoid memory issues, this step involves sampling a subset of the data. It helps in efficiently running the K-Means algorithm on a representative sample."
      ],
      "metadata": {
        "id": "of7Ej6tCEcpi"
      }
    },
    {
      "cell_type": "code",
      "source": [
        "# Sample the data to avoid memory issues\n",
        "df_sample = df.sample(n=5000, random_state=42)"
      ],
      "metadata": {
        "id": "xzuKbvWaEces"
      },
      "execution_count": 18,
      "outputs": []
    },
    {
      "cell_type": "markdown",
      "source": [
        "### 4. Categorical Data Encoding and Missing Value Imputation\n",
        "Categorical data is transformed into a numerical format using one-hot encoding. Additionally, any missing values in the dataset are imputed to ensure the dataset is complete and suitable for clustering."
      ],
      "metadata": {
        "id": "17iZnvA5E9MO"
      }
    },
    {
      "cell_type": "code",
      "source": [
        "from sklearn.preprocessing import StandardScaler, LabelEncoder\n",
        "from sklearn.impute import SimpleImputer\n",
        "\n",
        "# Identify and process categorical columns\n",
        "categorical_cols = df_sample.select_dtypes(include=['object']).columns\n",
        "df_sample = pd.get_dummies(df_sample, columns=categorical_cols)\n",
        "\n",
        "# Impute missing values\n",
        "imputer = SimpleImputer(strategy='mean')\n",
        "df_sample_imputed = pd.DataFrame(imputer.fit_transform(df_sample), columns=df_sample.columns)"
      ],
      "metadata": {
        "id": "6M2wHBFQE9Co"
      },
      "execution_count": 19,
      "outputs": []
    },
    {
      "cell_type": "markdown",
      "source": [
        "### 5. Feature Scaling\n",
        "This step scales the numeric features using standard scaling, which is a common requirement for many machine learning algorithms, including K-Means clustering."
      ],
      "metadata": {
        "id": "lDdN1ZHLFHRT"
      }
    },
    {
      "cell_type": "code",
      "source": [
        "# Scale numeric columns\n",
        "scaler = StandardScaler()\n",
        "numeric_cols = df_sample_imputed.select_dtypes(include=['number']).columns\n",
        "df_sample_imputed[numeric_cols] = scaler.fit_transform(df_sample_imputed[numeric_cols])"
      ],
      "metadata": {
        "id": "EJbTcLoWFHIK"
      },
      "execution_count": 20,
      "outputs": []
    },
    {
      "cell_type": "markdown",
      "source": [
        "### 6. Applying K-Means Clustering\n",
        "First, the optimal number of clusters is determined using the Elbow method. Then, K-Means clustering is applied to the dataset."
      ],
      "metadata": {
        "id": "zeVCFVcNFIAb"
      }
    },
    {
      "cell_type": "code",
      "source": [
        "from sklearn.cluster import KMeans\n",
        "import matplotlib.pyplot as plt\n",
        "\n",
        "# Determine the optimal number of clusters using the Elbow method\n",
        "ssd = []\n",
        "for k in range(1, 11):\n",
        "    kmeans = KMeans(n_clusters=k, random_state=42)\n",
        "    kmeans.fit(df_sample_imputed)\n",
        "    ssd.append(kmeans.inertia_)\n",
        "\n",
        "# Plotting the SSD for each k\n",
        "plt.figure(figsize=(10, 6))\n",
        "plt.plot(range(1, 11), ssd, marker='o')\n",
        "plt.title('Elbow Method')\n",
        "plt.xlabel('Number of clusters')\n",
        "plt.ylabel('Sum of Squared Distances')\n",
        "plt.grid(True)\n",
        "plt.show()"
      ],
      "metadata": {
        "colab": {
          "base_uri": "https://localhost:8080/",
          "height": 941
        },
        "id": "S48j_IkkFPyJ",
        "outputId": "a0fe36ef-d3d7-436b-bba5-2e29b57196b3"
      },
      "execution_count": 21,
      "outputs": [
        {
          "output_type": "stream",
          "name": "stderr",
          "text": [
            "/usr/local/lib/python3.10/dist-packages/sklearn/cluster/_kmeans.py:870: FutureWarning: The default value of `n_init` will change from 10 to 'auto' in 1.4. Set the value of `n_init` explicitly to suppress the warning\n",
            "  warnings.warn(\n",
            "/usr/local/lib/python3.10/dist-packages/sklearn/cluster/_kmeans.py:870: FutureWarning: The default value of `n_init` will change from 10 to 'auto' in 1.4. Set the value of `n_init` explicitly to suppress the warning\n",
            "  warnings.warn(\n",
            "/usr/local/lib/python3.10/dist-packages/sklearn/cluster/_kmeans.py:870: FutureWarning: The default value of `n_init` will change from 10 to 'auto' in 1.4. Set the value of `n_init` explicitly to suppress the warning\n",
            "  warnings.warn(\n",
            "/usr/local/lib/python3.10/dist-packages/sklearn/cluster/_kmeans.py:870: FutureWarning: The default value of `n_init` will change from 10 to 'auto' in 1.4. Set the value of `n_init` explicitly to suppress the warning\n",
            "  warnings.warn(\n",
            "/usr/local/lib/python3.10/dist-packages/sklearn/cluster/_kmeans.py:870: FutureWarning: The default value of `n_init` will change from 10 to 'auto' in 1.4. Set the value of `n_init` explicitly to suppress the warning\n",
            "  warnings.warn(\n",
            "/usr/local/lib/python3.10/dist-packages/sklearn/cluster/_kmeans.py:870: FutureWarning: The default value of `n_init` will change from 10 to 'auto' in 1.4. Set the value of `n_init` explicitly to suppress the warning\n",
            "  warnings.warn(\n",
            "/usr/local/lib/python3.10/dist-packages/sklearn/cluster/_kmeans.py:870: FutureWarning: The default value of `n_init` will change from 10 to 'auto' in 1.4. Set the value of `n_init` explicitly to suppress the warning\n",
            "  warnings.warn(\n",
            "/usr/local/lib/python3.10/dist-packages/sklearn/cluster/_kmeans.py:870: FutureWarning: The default value of `n_init` will change from 10 to 'auto' in 1.4. Set the value of `n_init` explicitly to suppress the warning\n",
            "  warnings.warn(\n",
            "/usr/local/lib/python3.10/dist-packages/sklearn/cluster/_kmeans.py:870: FutureWarning: The default value of `n_init` will change from 10 to 'auto' in 1.4. Set the value of `n_init` explicitly to suppress the warning\n",
            "  warnings.warn(\n",
            "/usr/local/lib/python3.10/dist-packages/sklearn/cluster/_kmeans.py:870: FutureWarning: The default value of `n_init` will change from 10 to 'auto' in 1.4. Set the value of `n_init` explicitly to suppress the warning\n",
            "  warnings.warn(\n"
          ]
        },
        {
          "output_type": "display_data",
          "data": {
            "text/plain": [
              "<Figure size 1000x600 with 1 Axes>"
            ],
            "image/png": "[encoded data removed]"
          },
          "metadata": {}
        }
      ]
    },
    {
      "cell_type": "markdown",
      "source": [
        "### 7. Cluster Label Assignment and Analysis\n",
        "This code assigns the data points to the clusters and then performs an analysis to understand the characteristics of each cluster."
      ],
      "metadata": {
        "id": "m0lPXGyHFY5P"
      }
    },
    {
      "cell_type": "code",
      "source": [
        "# Assuming the elbow is found at 3 clusters (this might need adjustment)\n",
        "optimal_clusters = 3\n",
        "kmeans = KMeans(n_clusters=optimal_clusters, random_state=42)\n",
        "cluster_labels = kmeans.fit_predict(df_sample_imputed)\n",
        "\n",
        "# Add the cluster labels to the DataFrame\n",
        "df_sample_imputed['Cluster'] = cluster_labels\n",
        "\n",
        "# Analyze the clusters\n",
        "cluster_analysis = df_sample_imputed.groupby('Cluster').mean()\n",
        "cluster_analysis"
      ],
      "metadata": {
        "colab": {
          "base_uri": "https://localhost:8080/",
          "height": 277
        },
        "id": "Hcds2rVVFYx4",
        "outputId": "67ab1d99-aca2-488e-b4ef-04c13c065c2d"
      },
      "execution_count": 22,
      "outputs": [
        {
          "output_type": "stream",
          "name": "stderr",
          "text": [
            "/usr/local/lib/python3.10/dist-packages/sklearn/cluster/_kmeans.py:870: FutureWarning: The default value of `n_init` will change from 10 to 'auto' in 1.4. Set the value of `n_init` explicitly to suppress the warning\n",
            "  warnings.warn(\n"
          ]
        },
        {
          "output_type": "execute_result",
          "data": {
            "text/plain": [
              "         Quantity  UnitPrice  CustomerID  InvoiceMonth  InvoiceDayOfWeek  \\\n",
              "Cluster                                                                    \n",
              "0       -0.012178  -0.004617    0.140846      0.000888          0.001545   \n",
              "1        0.059420   0.259322   -1.737814     -0.010867          0.066589   \n",
              "2        0.133618  -0.011419   -1.269966     -0.008026         -0.036388   \n",
              "\n",
              "         Country_Australia  Country_Austria  Country_Bahrain  Country_Belgium  \\\n",
              "Cluster                                                                         \n",
              "0                -0.044766        -0.028296        -0.014144        -0.066479   \n",
              "1                -0.044766        -0.028296        -0.014144        -0.066479   \n",
              "2                 0.560182         0.354077         0.176986         0.831885   \n",
              "\n",
              "         Country_Canada  ...  Country_Portugal  Country_RSA  \\\n",
              "Cluster                  ...                                  \n",
              "0             -0.014144  ...         -0.052989    -0.014144   \n",
              "1             -0.014144  ...         -0.052989    -0.014144   \n",
              "2              0.176986  ...          0.663082     0.176986   \n",
              "\n",
              "         Country_Singapore  Country_Spain  Country_Sweden  \\\n",
              "Cluster                                                     \n",
              "0                -0.020004      -0.080257       -0.037443   \n",
              "1                -0.020004      -0.080257       -0.037443   \n",
              "2                 0.250320       1.004300        0.468541   \n",
              "\n",
              "         Country_Switzerland  Country_USA  Country_United Arab Emirates  \\\n",
              "Cluster                                                                   \n",
              "0                  -0.060108    -0.028296                     -0.014144   \n",
              "1                  -0.060108    -0.028296                     -0.014144   \n",
              "2                   0.752166     0.354077                      0.176986   \n",
              "\n",
              "         Country_United Kingdom  Country_Unspecified  \n",
              "Cluster                                               \n",
              "0                      0.320592            -0.037443  \n",
              "1                     -3.111874            -0.037443  \n",
              "2                     -3.111874             0.468541  \n",
              "\n",
              "[3 rows x 38 columns]"
            ],
            "text/html": [
              "\n",
              "  <div id=\"df-e369feab-6377-42fb-892f-be08f737f3fc\" class=\"colab-df-container\">\n",
              "    <div>\n",
              "<style scoped>\n",
              "    .dataframe tbody tr th:only-of-type {\n",
              "        vertical-align: middle;\n",
              "    }\n",
              "\n",
              "    .dataframe tbody tr th {\n",
              "        vertical-align: top;\n",
              "    }\n",
              "\n",
              "    .dataframe thead th {\n",
              "        text-align: right;\n",
              "    }\n",
              "</style>\n",
              "<table border=\"1\" class=\"dataframe\">\n",
              "  <thead>\n",
              "    <tr style=\"text-align: right;\">\n",
              "      <th></th>\n",
              "      <th>Quantity</th>\n",
              "      <th>UnitPrice</th>\n",
              "      <th>CustomerID</th>\n",
              "      <th>InvoiceMonth</th>\n",
              "      <th>InvoiceDayOfWeek</th>\n",
              "      <th>Country_Australia</th>\n",
              "      <th>Country_Austria</th>\n",
              "      <th>Country_Bahrain</th>\n",
              "      <th>Country_Belgium</th>\n",
              "      <th>Country_Canada</th>\n",
              "      <th>...</th>\n",
              "      <th>Country_Portugal</th>\n",
              "      <th>Country_RSA</th>\n",
              "      <th>Country_Singapore</th>\n",
              "      <th>Country_Spain</th>\n",
              "      <th>Country_Sweden</th>\n",
              "      <th>Country_Switzerland</th>\n",
              "      <th>Country_USA</th>\n",
              "      <th>Country_United Arab Emirates</th>\n",
              "      <th>Country_United Kingdom</th>\n",
              "      <th>Country_Unspecified</th>\n",
              "    </tr>\n",
              "    <tr>\n",
              "      <th>Cluster</th>\n",
              "      <th></th>\n",
              "      <th></th>\n",
              "      <th></th>\n",
              "      <th></th>\n",
              "      <th></th>\n",
              "      <th></th>\n",
              "      <th></th>\n",
              "      <th></th>\n",
              "      <th></th>\n",
              "      <th></th>\n",
              "      <th></th>\n",
              "      <th></th>\n",
              "      <th></th>\n",
              "      <th></th>\n",
              "      <th></th>\n",
              "      <th></th>\n",
              "      <th></th>\n",
              "      <th></th>\n",
              "      <th></th>\n",
              "      <th></th>\n",
              "      <th></th>\n",
              "    </tr>\n",
              "  </thead>\n",
              "  <tbody>\n",
              "    <tr>\n",
              "      <th>0</th>\n",
              "      <td>-0.012178</td>\n",
              "      <td>-0.004617</td>\n",
              "      <td>0.140846</td>\n",
              "      <td>0.000888</td>\n",
              "      <td>0.001545</td>\n",
              "      <td>-0.044766</td>\n",
              "      <td>-0.028296</td>\n",
              "      <td>-0.014144</td>\n",
              "      <td>-0.066479</td>\n",
              "      <td>-0.014144</td>\n",
              "      <td>...</td>\n",
              "      <td>-0.052989</td>\n",
              "      <td>-0.014144</td>\n",
              "      <td>-0.020004</td>\n",
              "      <td>-0.080257</td>\n",
              "      <td>-0.037443</td>\n",
              "      <td>-0.060108</td>\n",
              "      <td>-0.028296</td>\n",
              "      <td>-0.014144</td>\n",
              "      <td>0.320592</td>\n",
              "      <td>-0.037443</td>\n",
              "    </tr>\n",
              "    <tr>\n",
              "      <th>1</th>\n",
              "      <td>0.059420</td>\n",
              "      <td>0.259322</td>\n",
              "      <td>-1.737814</td>\n",
              "      <td>-0.010867</td>\n",
              "      <td>0.066589</td>\n",
              "      <td>-0.044766</td>\n",
              "      <td>-0.028296</td>\n",
              "      <td>-0.014144</td>\n",
              "      <td>-0.066479</td>\n",
              "      <td>-0.014144</td>\n",
              "      <td>...</td>\n",
              "      <td>-0.052989</td>\n",
              "      <td>-0.014144</td>\n",
              "      <td>-0.020004</td>\n",
              "      <td>-0.080257</td>\n",
              "      <td>-0.037443</td>\n",
              "      <td>-0.060108</td>\n",
              "      <td>-0.028296</td>\n",
              "      <td>-0.014144</td>\n",
              "      <td>-3.111874</td>\n",
              "      <td>-0.037443</td>\n",
              "    </tr>\n",
              "    <tr>\n",
              "      <th>2</th>\n",
              "      <td>0.133618</td>\n",
              "      <td>-0.011419</td>\n",
              "      <td>-1.269966</td>\n",
              "      <td>-0.008026</td>\n",
              "      <td>-0.036388</td>\n",
              "      <td>0.560182</td>\n",
              "      <td>0.354077</td>\n",
              "      <td>0.176986</td>\n",
              "      <td>0.831885</td>\n",
              "      <td>0.176986</td>\n",
              "      <td>...</td>\n",
              "      <td>0.663082</td>\n",
              "      <td>0.176986</td>\n",
              "      <td>0.250320</td>\n",
              "      <td>1.004300</td>\n",
              "      <td>0.468541</td>\n",
              "      <td>0.752166</td>\n",
              "      <td>0.354077</td>\n",
              "      <td>0.176986</td>\n",
              "      <td>-3.111874</td>\n",
              "      <td>0.468541</td>\n",
              "    </tr>\n",
              "  </tbody>\n",
              "</table>\n",
              "<p>3 rows × 38 columns</p>\n",
              "</div>\n",
              "    <div class=\"colab-df-buttons\">\n",
              "\n",
              "  <div class=\"colab-df-container\">\n",
              "    <button class=\"colab-df-convert\" onclick=\"convertToInteractive('df-e369feab-6377-42fb-892f-be08f737f3fc')\"\n",
              "            title=\"Convert this dataframe to an interactive table.\"\n",
              "            style=\"display:none;\">\n",
              "\n",
              "  <svg xmlns=\"http://www.w3.org/2000/svg\" height=\"24px\" viewBox=\"0 -960 960 960\">\n",
              "    <path d=\"M120-120v-720h720v720H120Zm60-500h600v-160H180v160Zm220 220h160v-160H400v160Zm0 220h160v-160H400v160ZM180-400h160v-160H180v160Zm440 0h160v-160H620v160ZM180-180h160v-160H180v160Zm440 0h160v-160H620v160Z\"/>\n",
              "  </svg>\n",
              "    </button>\n",
              "\n",
              "  <style>\n",
              "    .colab-df-container {\n",
              "      display:flex;\n",
              "      gap: 12px;\n",
              "    }\n",
              "\n",
              "    .colab-df-convert {\n",
              "      background-color: #E8F0FE;\n",
              "      border: none;\n",
              "      border-radius: 50%;\n",
              "      cursor: pointer;\n",
              "      display: none;\n",
              "      fill: #1967D2;\n",
              "      height: 32px;\n",
              "      padding: 0 0 0 0;\n",
              "      width: 32px;\n",
              "    }\n",
              "\n",
              "    .colab-df-convert:hover {\n",
              "      background-color: #E2EBFA;\n",
              "      box-shadow: 0px 1px 2px rgba(60, 64, 67, 0.3), 0px 1px 3px 1px rgba(60, 64, 67, 0.15);\n",
              "      fill: #174EA6;\n",
              "    }\n",
              "\n",
              "    .colab-df-buttons div {\n",
              "      margin-bottom: 4px;\n",
              "    }\n",
              "\n",
              "    [theme=dark] .colab-df-convert {\n",
              "      background-color: #3B4455;\n",
              "      fill: #D2E3FC;\n",
              "    }\n",
              "\n",
              "    [theme=dark] .colab-df-convert:hover {\n",
              "      background-color: #434B5C;\n",
              "      box-shadow: 0px 1px 3px 1px rgba(0, 0, 0, 0.15);\n",
              "      filter: drop-shadow(0px 1px 2px rgba(0, 0, 0, 0.3));\n",
              "      fill: #FFFFFF;\n",
              "    }\n",
              "  </style>\n",
              "\n",
              "    <script>\n",
              "      const buttonEl =\n",
              "        document.querySelector('#df-e369feab-6377-42fb-892f-be08f737f3fc button.colab-df-convert');\n",
              "      buttonEl.style.display =\n",
              "        google.colab.kernel.accessAllowed ? 'block' : 'none';\n",
              "\n",
              "      async function convertToInteractive(key) {\n",
              "        const element = document.querySelector('#df-e369feab-6377-42fb-892f-be08f737f3fc');\n",
              "        const dataTable =\n",
              "          await google.colab.kernel.invokeFunction('convertToInteractive',\n",
              "                                                    [key], {});\n",
              "        if (!dataTable) return;\n",
              "\n",
              "        const docLinkHtml = 'Like what you see? Visit the ' +\n",
              "          '<a target=\"_blank\" href=https://colab.research.google.com/notebooks/data_table.ipynb>data table notebook</a>'\n",
              "          + ' to learn more about interactive tables.';\n",
              "        element.innerHTML = '';\n",
              "        dataTable['output_type'] = 'display_data';\n",
              "        await google.colab.output.renderOutput(dataTable, element);\n",
              "        const docLink = document.createElement('div');\n",
              "        docLink.innerHTML = docLinkHtml;\n",
              "        element.appendChild(docLink);\n",
              "      }\n",
              "    </script>\n",
              "  </div>\n",
              "\n",
              "\n",
              "<div id=\"df-01ea2eeb-8ea5-4d2c-9ac4-3085516ddd67\">\n",
              "  <button class=\"colab-df-quickchart\" onclick=\"quickchart('df-01ea2eeb-8ea5-4d2c-9ac4-3085516ddd67')\"\n",
              "            title=\"Suggest charts\"\n",
              "            style=\"display:none;\">\n",
              "\n",
              "<svg xmlns=\"http://www.w3.org/2000/svg\" height=\"24px\"viewBox=\"0 0 24 24\"\n",
              "     width=\"24px\">\n",
              "    <g>\n",
              "        <path d=\"M19 3H5c-1.1 0-2 .9-2 2v14c0 1.1.9 2 2 2h14c1.1 0 2-.9 2-2V5c0-1.1-.9-2-2-2zM9 17H7v-7h2v7zm4 0h-2V7h2v10zm4 0h-2v-4h2v4z\"/>\n",
              "    </g>\n",
              "</svg>\n",
              "  </button>\n",
              "\n",
              "<style>\n",
              "  .colab-df-quickchart {\n",
              "      --bg-color: #E8F0FE;\n",
              "      --fill-color: #1967D2;\n",
              "      --hover-bg-color: #E2EBFA;\n",
              "      --hover-fill-color: #174EA6;\n",
              "      --disabled-fill-color: #AAA;\n",
              "      --disabled-bg-color: #DDD;\n",
              "  }\n",
              "\n",
              "  [theme=dark] .colab-df-quickchart {\n",
              "      --bg-color: #3B4455;\n",
              "      --fill-color: #D2E3FC;\n",
              "      --hover-bg-color: #434B5C;\n",
              "      --hover-fill-color: #FFFFFF;\n",
              "      --disabled-bg-color: #3B4455;\n",
              "      --disabled-fill-color: #666;\n",
              "  }\n",
              "\n",
              "  .colab-df-quickchart {\n",
              "    background-color: var(--bg-color);\n",
              "    border: none;\n",
              "    border-radius: 50%;\n",
              "    cursor: pointer;\n",
              "    display: none;\n",
              "    fill: var(--fill-color);\n",
              "    height: 32px;\n",
              "    padding: 0;\n",
              "    width: 32px;\n",
              "  }\n",
              "\n",
              "  .colab-df-quickchart:hover {\n",
              "    background-color: var(--hover-bg-color);\n",
              "    box-shadow: 0 1px 2px rgba(60, 64, 67, 0.3), 0 1px 3px 1px rgba(60, 64, 67, 0.15);\n",
              "    fill: var(--button-hover-fill-color);\n",
              "  }\n",
              "\n",
              "  .colab-df-quickchart-complete:disabled,\n",
              "  .colab-df-quickchart-complete:disabled:hover {\n",
              "    background-color: var(--disabled-bg-color);\n",
              "    fill: var(--disabled-fill-color);\n",
              "    box-shadow: none;\n",
              "  }\n",
              "\n",
              "  .colab-df-spinner {\n",
              "    border: 2px solid var(--fill-color);\n",
              "    border-color: transparent;\n",
              "    border-bottom-color: var(--fill-color);\n",
              "    animation:\n",
              "      spin 1s steps(1) infinite;\n",
              "  }\n",
              "\n",
              "  @keyframes spin {\n",
              "    0% {\n",
              "      border-color: transparent;\n",
              "      border-bottom-color: var(--fill-color);\n",
              "      border-left-color: var(--fill-color);\n",
              "    }\n",
              "    20% {\n",
              "      border-color: transparent;\n",
              "      border-left-color: var(--fill-color);\n",
              "      border-top-color: var(--fill-color);\n",
              "    }\n",
              "    30% {\n",
              "      border-color: transparent;\n",
              "      border-left-color: var(--fill-color);\n",
              "      border-top-color: var(--fill-color);\n",
              "      border-right-color: var(--fill-color);\n",
              "    }\n",
              "    40% {\n",
              "      border-color: transparent;\n",
              "      border-right-color: var(--fill-color);\n",
              "      border-top-color: var(--fill-color);\n",
              "    }\n",
              "    60% {\n",
              "      border-color: transparent;\n",
              "      border-right-color: var(--fill-color);\n",
              "    }\n",
              "    80% {\n",
              "      border-color: transparent;\n",
              "      border-right-color: var(--fill-color);\n",
              "      border-bottom-color: var(--fill-color);\n",
              "    }\n",
              "    90% {\n",
              "      border-color: transparent;\n",
              "      border-bottom-color: var(--fill-color);\n",
              "    }\n",
              "  }\n",
              "</style>\n",
              "\n",
              "  <script>\n",
              "    async function quickchart(key) {\n",
              "      const quickchartButtonEl =\n",
              "        document.querySelector('#' + key + ' button');\n",
              "      quickchartButtonEl.disabled = true;  // To prevent multiple clicks.\n",
              "      quickchartButtonEl.classList.add('colab-df-spinner');\n",
              "      try {\n",
              "        const charts = await google.colab.kernel.invokeFunction(\n",
              "            'suggestCharts', [key], {});\n",
              "      } catch (error) {\n",
              "        console.error('Error during call to suggestCharts:', error);\n",
              "      }\n",
              "      quickchartButtonEl.classList.remove('colab-df-spinner');\n",
              "      quickchartButtonEl.classList.add('colab-df-quickchart-complete');\n",
              "    }\n",
              "    (() => {\n",
              "      let quickchartButtonEl =\n",
              "        document.querySelector('#df-01ea2eeb-8ea5-4d2c-9ac4-3085516ddd67 button');\n",
              "      quickchartButtonEl.style.display =\n",
              "        google.colab.kernel.accessAllowed ? 'block' : 'none';\n",
              "    })();\n",
              "  </script>\n",
              "</div>\n",
              "    </div>\n",
              "  </div>\n"
            ]
          },
          "metadata": {},
          "execution_count": 22
        }
      ]
    },
    {
      "cell_type": "markdown",
      "source": [
        "### 8. Generating Plots for Cluster Analysis\n",
        "This final block of code generates plots to visually analyze the distribution of different features across the clusters. Replace 'Feature1', 'Feature2', ... with the actual numeric features from your dataset."
      ],
      "metadata": {
        "id": "OgN5i1kfGWxT"
      }
    },
    {
      "cell_type": "code",
      "source": [
        "# Distribution of features per cluster\n",
        "fig, axs = plt.subplots(1, 1, figsize=(15, 10))\n",
        "\n",
        "# Use 'Quantity' and 'UnitPrice' as example features\n",
        "features_to_plot = ['Quantity', 'UnitPrice']  # Replace with actual numeric features\n",
        "\n",
        "for i, feature in enumerate(features_to_plot):\n",
        "    ax = plt.subplot(2, 2, i+1)\n",
        "    for cluster in range(optimal_clusters):\n",
        "        df_sample_imputed[df_sample_imputed['Cluster'] == cluster][feature].plot(kind='kde', ax=ax, label=f'Cluster {cluster}')\n",
        "    plt.title(f'Distribution of {feature} per Cluster')\n",
        "    plt.xlabel(feature)\n",
        "    plt.legend()\n",
        "\n",
        "plt.tight_layout()\n",
        "plt.show()"
      ],
      "metadata": {
        "colab": {
          "base_uri": "https://localhost:8080/",
          "height": 434
        },
        "id": "DODPN3ZwFQbg",
        "outputId": "194f6c15-247f-4ef2-a404-ca8e89438c5c"
      },
      "execution_count": 28,
      "outputs": [
        {
          "output_type": "stream",
          "name": "stderr",
          "text": [
            "<ipython-input-28-fa781e27d3c4>:8: MatplotlibDeprecationWarning: Auto-removal of overlapping axes is deprecated since 3.6 and will be removed two minor releases later; explicitly call ax.remove() as needed.\n",
            "  ax = plt.subplot(2, 2, i+1)\n"
          ]
        },
        {
          "output_type": "display_data",
          "data": {
            "text/plain": [
              "<Figure size 1500x1000 with 2 Axes>"
            ],
            "image/png": "[encoded data removed]"
          },
          "metadata": {}
        }
      ]
    }
  ]
}